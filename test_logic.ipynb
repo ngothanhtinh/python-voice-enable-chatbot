{
 "cells": [
  {
   "cell_type": "code",
   "execution_count": 1,
   "metadata": {},
   "outputs": [
    {
     "name": "stdout",
     "output_type": "stream",
     "text": [
      "     <speak version='1.0' xmlns='http://www.w3.org/2001/10/synthesis' xml:lang='en-US'>         <voice name='en-US-ElizabethNeural'>             How can I help you today?             <break strength='weak'/>             .         </voice>     </speak>\n"
     ]
    }
   ],
   "source": [
    "answer = \"How can I help you today?\"\n",
    "\n",
    "responseSsml = \" \\\n",
    "    <speak version='1.0' xmlns='http://www.w3.org/2001/10/synthesis' xml:lang='en-US'> \\\n",
    "        <voice name='en-US-ElizabethNeural'> \\\n",
    "            {} \\\n",
    "            <break strength='weak'/> \\\n",
    "            . \\\n",
    "        </voice> \\\n",
    "    </speak>\".format(answer)\n",
    "\n",
    "print(responseSsml)"
   ]
  }
 ],
 "metadata": {
  "kernelspec": {
   "display_name": ".venv",
   "language": "python",
   "name": "python3"
  },
  "language_info": {
   "codemirror_mode": {
    "name": "ipython",
    "version": 3
   },
   "file_extension": ".py",
   "mimetype": "text/x-python",
   "name": "python",
   "nbconvert_exporter": "python",
   "pygments_lexer": "ipython3",
   "version": "3.9.13"
  }
 },
 "nbformat": 4,
 "nbformat_minor": 2
}
